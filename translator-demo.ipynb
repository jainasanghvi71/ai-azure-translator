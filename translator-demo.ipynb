{
 "cells": [
  {
   "cell_type": "code",
   "execution_count": null,
   "id": "fd91664b-4f19-4dee-ab86-098fdd446457",
   "metadata": {},
   "outputs": [],
   "source": [
    "from azure.core.credentials import AzureKeyCredential\n",
    "from azure.ai.translation.text import TextTranslationClient, TranslatorCredential\n",
    "from azure.core.exceptions import HttpResponseError"
   ]
  },
  {
   "cell_type": "code",
   "execution_count": null,
   "id": "db868993-92ab-4dd6-97b2-0f9a97c1b699",
   "metadata": {
    "jupyter": {
     "source_hidden": true
    }
   },
   "outputs": [],
   "source": [
    "apiKey=\"REPLACE_WITH_YOUR_KEY\"\n",
    "region = \"westus\""
   ]
  },
  {
   "cell_type": "code",
   "execution_count": null,
   "id": "b9ff8d04-88d0-4031-8618-6d1413c04942",
   "metadata": {
    "scrolled": true
   },
   "outputs": [],
   "source": [
    "credential = TranslatorCredential(apiKey, region)\n",
    "text_translator = TextTranslationClient(region=region, credential=credential)"
   ]
  },
  {
   "cell_type": "code",
   "execution_count": null,
   "id": "d119069d-6a9c-4a6d-83ec-0d635e1f3053",
   "metadata": {
    "scrolled": true
   },
   "outputs": [],
   "source": [
    "try:\n",
    "    to_language = [\"cs\", \"es\", \"de\"]\n",
    "    input_text_elements = [{\"text\": \"Hello Alians!!\"}]\n",
    "\n",
    "    response = text_translator.translate(content=input_text_elements, to=to_language)\n",
    "    translation = response[0] if response else None\n",
    "\n",
    "    if translation:\n",
    "        detected_language = translation.detected_language\n",
    "        if detected_language:\n",
    "            print(f\"Source input text : {input_text_elements}\" )\n",
    "            print(\n",
    "                f\"Detected languages of the input text: {detected_language.language} with score: {detected_language.score}.\"\n",
    "            )\n",
    "        for translated_text in translation.translations:\n",
    "            print(f\"Text was translated to: '{translated_text.to}' and the result is: '{translated_text.text}'.\")\n",
    "\n",
    "except HttpResponseError as exception:\n",
    "    if exception.error is not None:\n",
    "        print(f\"Error Code: {exception.error.code}\")\n",
    "        print(f\"Message: {exception.error.message}\")"
   ]
  },
  {
   "cell_type": "code",
   "execution_count": null,
   "id": "d89bbeb6-f4f1-42fd-a222-1a18cde1053b",
   "metadata": {},
   "outputs": [],
   "source": []
  }
 ],
 "metadata": {
  "kernelspec": {
   "display_name": "Python 3.10 - SDK v2",
   "language": "python",
   "name": "python310-sdkv2"
  },
  "language_info": {
   "codemirror_mode": {
    "name": "ipython",
    "version": 3
   },
   "file_extension": ".py",
   "mimetype": "text/x-python",
   "name": "python",
   "nbconvert_exporter": "python",
   "pygments_lexer": "ipython3",
   "version": "3.10.18"
  }
 },
 "nbformat": 4,
 "nbformat_minor": 5
}
